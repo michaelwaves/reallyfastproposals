{
 "cells": [
  {
   "cell_type": "code",
   "execution_count": 18,
   "id": "dc428d77",
   "metadata": {},
   "outputs": [],
   "source": [
    "import pandas as pd\n",
    "from sentence_transformers import SentenceTransformer\n",
    "from qdrant_client import QdrantClient\n",
    "from qdrant_client.models import PointStruct, VectorParams, Distance"
   ]
  },
  {
   "cell_type": "code",
   "execution_count": 19,
   "id": "60bec245",
   "metadata": {},
   "outputs": [
    {
     "name": "stdout",
     "output_type": "stream",
     "text": [
      "operation_id=0 status=<UpdateStatus.COMPLETED: 'completed'>\n"
     ]
    }
   ],
   "source": [
    "# 1. Load text embedding model (CPU-friendly)\n",
    "model = SentenceTransformer('all-MiniLM-L6-v2')\n",
    "\n",
    "# 2. Connect to Qdrant (assumes localhost; change if needed)\n",
    "client = QdrantClient(\"http://localhost:6333\")  # or use `host`, `port` args\n",
    "\n",
    "# 3. Create the collection if it doesn’t exist\n",
    "COLLECTION_NAME = \"APARAVI\"\n",
    "VECTOR_DIM = 384  # all-MiniLM-L6-v2 output size\n",
    "\n",
    "if not client.collection_exists('APARAVI'):\n",
    "    client.create_collection(\n",
    "        collection_name=COLLECTION_NAME,\n",
    "        vectors_config=VectorParams(size=VECTOR_DIM, distance=Distance.COSINE)\n",
    "    )\n",
    "\n",
    "# 4. Sample DataFrame\n",
    "df = pd.read_csv(\"./master_links.csv\")\n",
    "# 5. Generate embeddings\n",
    "embeddings = model.encode([str(text) for text in df[\"text\"].tolist()]).tolist()\n",
    "\n",
    "# 6. Convert to Qdrant Points\n",
    "points = [\n",
    "    PointStruct(\n",
    "        id=int(i),\n",
    "        vector=vec,\n",
    "        payload={\n",
    "            \"text\": df.loc[i, \"text\"],\n",
    "            \"link\": df.loc[i, \"link\"]\n",
    "        }\n",
    "    )\n",
    "    for i, vec in enumerate(embeddings)\n",
    "]\n",
    "\n",
    "# 7. Upsert to Qdrant\n",
    "operation_info = client.upsert(\n",
    "    collection_name=COLLECTION_NAME,\n",
    "    wait=True,\n",
    "    points=points\n",
    ")\n",
    "\n",
    "print(operation_info)\n"
   ]
  },
  {
   "cell_type": "code",
   "execution_count": 20,
   "id": "e0e59347",
   "metadata": {},
   "outputs": [
    {
     "name": "stdout",
     "output_type": "stream",
     "text": [
      "{'id': 23, 'version': 0, 'score': 0.48161975, 'payload': {'text': 'PROCESS, TRANSACTION AND FINANCIAL ADVISORY SERVICES', 'link': 'https://urldefense.com/v3/__https://www.merx.com/private/supplier/interception/open-solicitation/3448885067?utm_medium=email&utm_source=system_2025-05-23_AM&utm_campaign=savedsearch_notifications&pid=17220162&utm_content=abstract_443523236325&language=EN__;!!CKcPr9h30w!exGRQ6F3nX0YHwj_p1Q5_Hq_7UsLhrKIM4uNZGC-smhLze9SZhK16WBGZHtQcf4ZwR9LB4VL1AO3HUsc$'}, 'vector': None, 'shard_key': None, 'order_value': None}\n",
      "{'id': 167, 'version': 0, 'score': 0.4189157, 'payload': {'text': 'Consultant Services - Mechanical Engineers', 'link': 'https://urldefense.com/v3/__https://email.biddingo.com/c/eJxMjkFqwzAQAF8jH8VqtbLkgw6BYGhp6aEvWGntRGBbQXFi-vtCLu11mIGRiD1L7qZoPPkAYIG6awwGJ2fFDuJSImQ35Fmytx5mnAO4rkSD2NNAfiA9QMDw1wNY_c5P_uSy6LLNVRGkIlK2S9W5rt0Sr_t-uyt7UjgqHI_j0P8FheO0clk-6qVsyo5zq6uy51TktExt_36ke24lTU1f91Vhn4p8tcubKHsmAxS8cwr7fZP2YsaAJQq2a_HW6q3eedGZNxZWBJzzo3H-eY09I_4GAAD__yY3Utk__;!!CKcPr9h30w!dXFVcQa7e9VDRBqvzcZGKEeZGw1Tm7C7uqToIg0AdHRBqHR22RfWRxsLenbSpSbza0fn-MgYdO8O1zNxKM_qMf8MQxMW$'}, 'vector': None, 'shard_key': None, 'order_value': None}\n",
      "{'id': 83, 'version': 0, 'score': 0.40795118, 'payload': {'text': 'REQUEST FOR PROPOSAL FOR THE PROVISION OF FINANCIAL AUDITING SERVICES', 'link': 'https://urldefense.com/v3/__https://email.biddingo.com/c/eJxMjstqwzAQAL9mfRTS6mH5oEMgGFpaeugXrLRyIrAtIzsx_ftCC6XXYQaGAzri1OWgetN775wfuntwOalBW05-MqQ4OvLS9rlnGwdPk-xKUBKt7J3VQimrB_fXe-1QvNKT3qnMoqxTBSNjYS7rrYpUl24O9-PYdtAXwBFwPM9T_BcAx7xQmd_qraygx6nVBfQ1Fr7MuR2fj7inVmJu4n4sgC4W_mi3FwZ9NUpqbZQCdMfK7ZdJ43FA37WwtbrVnWaRaCUmMJJSejRKXz9jz4DfAQAA__-p51No__;!!CKcPr9h30w!ffU_QHGrLzj7mX80gwrGZpT0ivHdrYzLC9rQzGEPFeQKD291U6gP8oPep-xDILvnCxZPZOaTlEKTkEtTknSPUbYodDly$'}, 'vector': None, 'shard_key': None, 'order_value': None}\n"
     ]
    }
   ],
   "source": [
    "def get_context_embedding(company_context: str):\n",
    "    \"\"\"Precompute the embedding for the company context\"\"\"\n",
    "    return model.encode(company_context, convert_to_tensor=False)\n",
    "\n",
    "COMPANY_CONTEXT=\"\"\"We mainly focus on two areas:\n",
    "\n",
    "PAD (Project Advisory and Disputes): Typically in the context of construction projects, we mostly offer dispute support, serving as an advisor to quantify damages or claims. We dive deep into construction schedules to perform “delay analysis”, seeing how one event impacted the next and so forth. We then do “quantitative analysis”, to tie figures into the analysis once we have established causality. On the advisory side, we are always looking for opportunities to assist large infrastructure projects on their management practices, but we are not specialized engineers or architects (although some of us do have that kind of background); so we are not going to perform engineering tasks. Just management advisory, risk advisory, and dispute advisory.\n",
    "Transactions: We make due diligence reports for companies looking to sell or acquire businesses. This entails reviewing trial balances, management accounts, and reconciling and performing quality of earnings (QoE) adjustments to offer a view of normalized EBITDA. We are not financial auditors or accountants.\n",
    "Strategy: specifically in AI and healthcare, we offer strategic support and presentations to managers to assist them with managerial decisions and keep them updated on latest trends. This is the most lenient type of work available to us, and we will do strategy projects in different industries – we recently worked with an agriculture firm to advise them on AI impacts on their business. So the window is very broad.\"\"\"\n",
    "search_result = client.query_points(\n",
    "    collection_name=\"APARAVI\",\n",
    "    query= get_context_embedding(COMPANY_CONTEXT),\n",
    "    with_payload=True,\n",
    "    limit=3 \n",
    ").points\n",
    "\n",
    "for res in search_result:\n",
    "    print(res.model_dump())"
   ]
  }
 ],
 "metadata": {
  "kernelspec": {
   "display_name": "paypal",
   "language": "python",
   "name": "python3"
  },
  "language_info": {
   "codemirror_mode": {
    "name": "ipython",
    "version": 3
   },
   "file_extension": ".py",
   "mimetype": "text/x-python",
   "name": "python",
   "nbconvert_exporter": "python",
   "pygments_lexer": "ipython3",
   "version": "3.12.9"
  }
 },
 "nbformat": 4,
 "nbformat_minor": 5
}
